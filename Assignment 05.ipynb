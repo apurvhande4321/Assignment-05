{
 "cells": [
  {
   "cell_type": "markdown",
   "id": "2547e3ee",
   "metadata": {},
   "source": [
    "Write a Python class to implement pow(x, n)\n"
   ]
  },
  {
   "cell_type": "code",
   "execution_count": 2,
   "id": "251ed34d",
   "metadata": {},
   "outputs": [
    {
     "name": "stdout",
     "output_type": "stream",
     "text": [
      "x:10\n",
      "n:2\n",
      "100\n"
     ]
    }
   ],
   "source": [
    "class power:\n",
    "    def pow(self, x, n):\n",
    "        if x==0 or x==1 or n==1:\n",
    "            return x \n",
    "\n",
    "        if x==-1:\n",
    "            if n%2 ==0:\n",
    "                return 1\n",
    "            else:\n",
    "                return -1\n",
    "        if n==0:\n",
    "            return 1\n",
    "        if n<0:\n",
    "            return 1/self.pow(x,-n)\n",
    "        val = self.pow(x,n//2)\n",
    "        if n%2 ==0:\n",
    "            return val*val\n",
    "        return val*val*x\n",
    "    \n",
    "print(power().pow(int(input('x:')), int(input('n:'))))"
   ]
  },
  {
   "cell_type": "code",
   "execution_count": null,
   "id": "5417798f",
   "metadata": {},
   "outputs": [],
   "source": []
  }
 ],
 "metadata": {
  "kernelspec": {
   "display_name": "Python 3 (ipykernel)",
   "language": "python",
   "name": "python3"
  },
  "language_info": {
   "codemirror_mode": {
    "name": "ipython",
    "version": 3
   },
   "file_extension": ".py",
   "mimetype": "text/x-python",
   "name": "python",
   "nbconvert_exporter": "python",
   "pygments_lexer": "ipython3",
   "version": "3.9.7"
  }
 },
 "nbformat": 4,
 "nbformat_minor": 5
}
